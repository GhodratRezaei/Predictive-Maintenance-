{
 "cells": [
  {
   "cell_type": "code",
   "execution_count": 109,
   "metadata": {
    "id": "Kd4rQvV2yafG"
   },
   "outputs": [],
   "source": [
    "import pandas as pd\n",
    "import numpy as np\n",
    "from sklearn.preprocessing import StandardScaler\n",
    "from sklearn.preprocessing import MinMaxScaler\n",
    "from sklearn.metrics import recall_score\n"
   ]
  },
  {
   "cell_type": "code",
   "execution_count": 78,
   "metadata": {
    "id": "d6kvrzDGyhz9"
   },
   "outputs": [],
   "source": [
    "from numpy import genfromtxt\n",
    "PCA_arr = genfromtxt('PCA_origin.csv', delimiter=',')"
   ]
  },
  {
   "cell_type": "code",
   "execution_count": 49,
   "metadata": {},
   "outputs": [],
   "source": [
    "def normalizer_df(df, return_df = False, is_standard = True, range_to_put = (-1, 1)):\n",
    "    df = df.copy()\n",
    "    st_x= StandardScaler()\n",
    "    norm_x = MinMaxScaler(feature_range = range_to_put)\n",
    "    if is_standard:\n",
    "        if return_df:\n",
    "            df[df.columns] = st_x.fit_transform(df[df.columns])\n",
    "            return df\n",
    "        else:\n",
    "            return st_x.fit_transform(df)\n",
    "    else:\n",
    "        if return_df:\n",
    "            df[df.columns] = norm_x.fit_transform(df[df.columns])\n",
    "            return df\n",
    "        else:\n",
    "            return norm_x.fit_transform(df)"
   ]
  },
  {
   "cell_type": "code",
   "execution_count": 20,
   "metadata": {
    "colab": {
     "base_uri": "https://localhost:8080/",
     "height": 606
    },
    "id": "VG3TlvTD115I",
    "outputId": "971b643a-910e-4acc-d232-55d69a66d6df"
   },
   "outputs": [
    {
     "data": {
      "text/html": [
       "<div>\n",
       "<style scoped>\n",
       "    .dataframe tbody tr th:only-of-type {\n",
       "        vertical-align: middle;\n",
       "    }\n",
       "\n",
       "    .dataframe tbody tr th {\n",
       "        vertical-align: top;\n",
       "    }\n",
       "\n",
       "    .dataframe thead th {\n",
       "        text-align: right;\n",
       "    }\n",
       "</style>\n",
       "<table border=\"1\" class=\"dataframe\">\n",
       "  <thead>\n",
       "    <tr style=\"text-align: right;\">\n",
       "      <th></th>\n",
       "      <th>SITE_ID</th>\n",
       "      <th>DATE</th>\n",
       "      <th>CELL_TYPE_Macro</th>\n",
       "      <th>CELL_TYPE_Mobil</th>\n",
       "      <th>CELL_TYPE_TRP</th>\n",
       "      <th>CELL_TYPE_Tx site</th>\n",
       "      <th>CELL_TYPE_micro</th>\n",
       "      <th>N_TRANSPORTED_SITES</th>\n",
       "      <th>GEOGRAPHIC_CLUSTER_K_0</th>\n",
       "      <th>GEOGRAPHIC_CLUSTER_K_1</th>\n",
       "      <th>...</th>\n",
       "      <th>skew_equipment_alarms_prev14d</th>\n",
       "      <th>skew_fire/smoke_alarms_prev14d</th>\n",
       "      <th>skew_ge_alarms_prev14d</th>\n",
       "      <th>skew_power_alarms_prev14d</th>\n",
       "      <th>skew_temperature_alarms_prev14d</th>\n",
       "      <th>kurt_equipment_alarms_prev14d</th>\n",
       "      <th>kurt_fire/smoke_alarms_prev14d</th>\n",
       "      <th>kurt_ge_alarms_prev14d</th>\n",
       "      <th>kurt_power_alarms_prev14d</th>\n",
       "      <th>kurt_temperature_alarms_prev14d</th>\n",
       "    </tr>\n",
       "  </thead>\n",
       "  <tbody>\n",
       "    <tr>\n",
       "      <th>0</th>\n",
       "      <td>146</td>\n",
       "      <td>2019-04-10</td>\n",
       "      <td>1</td>\n",
       "      <td>0</td>\n",
       "      <td>0</td>\n",
       "      <td>0</td>\n",
       "      <td>0</td>\n",
       "      <td>3.0</td>\n",
       "      <td>0</td>\n",
       "      <td>0</td>\n",
       "      <td>...</td>\n",
       "      <td>0.0</td>\n",
       "      <td>0.0</td>\n",
       "      <td>0.0</td>\n",
       "      <td>0.0</td>\n",
       "      <td>0.0</td>\n",
       "      <td>-1.212308</td>\n",
       "      <td>-1.212308</td>\n",
       "      <td>-1.212308</td>\n",
       "      <td>-1.212308</td>\n",
       "      <td>-1.212308</td>\n",
       "    </tr>\n",
       "    <tr>\n",
       "      <th>1</th>\n",
       "      <td>146</td>\n",
       "      <td>2019-04-11</td>\n",
       "      <td>1</td>\n",
       "      <td>0</td>\n",
       "      <td>0</td>\n",
       "      <td>0</td>\n",
       "      <td>0</td>\n",
       "      <td>3.0</td>\n",
       "      <td>0</td>\n",
       "      <td>0</td>\n",
       "      <td>...</td>\n",
       "      <td>0.0</td>\n",
       "      <td>0.0</td>\n",
       "      <td>0.0</td>\n",
       "      <td>0.0</td>\n",
       "      <td>0.0</td>\n",
       "      <td>-1.212308</td>\n",
       "      <td>-1.212308</td>\n",
       "      <td>-1.212308</td>\n",
       "      <td>-1.212308</td>\n",
       "      <td>-1.212308</td>\n",
       "    </tr>\n",
       "    <tr>\n",
       "      <th>2</th>\n",
       "      <td>146</td>\n",
       "      <td>2019-04-12</td>\n",
       "      <td>1</td>\n",
       "      <td>0</td>\n",
       "      <td>0</td>\n",
       "      <td>0</td>\n",
       "      <td>0</td>\n",
       "      <td>3.0</td>\n",
       "      <td>0</td>\n",
       "      <td>0</td>\n",
       "      <td>...</td>\n",
       "      <td>0.0</td>\n",
       "      <td>0.0</td>\n",
       "      <td>0.0</td>\n",
       "      <td>0.0</td>\n",
       "      <td>0.0</td>\n",
       "      <td>-1.212308</td>\n",
       "      <td>-1.212308</td>\n",
       "      <td>-1.212308</td>\n",
       "      <td>-1.212308</td>\n",
       "      <td>-1.212308</td>\n",
       "    </tr>\n",
       "    <tr>\n",
       "      <th>3</th>\n",
       "      <td>146</td>\n",
       "      <td>2019-04-13</td>\n",
       "      <td>1</td>\n",
       "      <td>0</td>\n",
       "      <td>0</td>\n",
       "      <td>0</td>\n",
       "      <td>0</td>\n",
       "      <td>3.0</td>\n",
       "      <td>0</td>\n",
       "      <td>0</td>\n",
       "      <td>...</td>\n",
       "      <td>0.0</td>\n",
       "      <td>0.0</td>\n",
       "      <td>0.0</td>\n",
       "      <td>0.0</td>\n",
       "      <td>0.0</td>\n",
       "      <td>-1.212308</td>\n",
       "      <td>-1.212308</td>\n",
       "      <td>-1.212308</td>\n",
       "      <td>-1.212308</td>\n",
       "      <td>-1.212308</td>\n",
       "    </tr>\n",
       "    <tr>\n",
       "      <th>4</th>\n",
       "      <td>146</td>\n",
       "      <td>2019-04-14</td>\n",
       "      <td>1</td>\n",
       "      <td>0</td>\n",
       "      <td>0</td>\n",
       "      <td>0</td>\n",
       "      <td>0</td>\n",
       "      <td>3.0</td>\n",
       "      <td>0</td>\n",
       "      <td>0</td>\n",
       "      <td>...</td>\n",
       "      <td>0.0</td>\n",
       "      <td>0.0</td>\n",
       "      <td>0.0</td>\n",
       "      <td>0.0</td>\n",
       "      <td>0.0</td>\n",
       "      <td>-1.212308</td>\n",
       "      <td>-1.212308</td>\n",
       "      <td>-1.212308</td>\n",
       "      <td>-1.212308</td>\n",
       "      <td>-1.212308</td>\n",
       "    </tr>\n",
       "    <tr>\n",
       "      <th>...</th>\n",
       "      <td>...</td>\n",
       "      <td>...</td>\n",
       "      <td>...</td>\n",
       "      <td>...</td>\n",
       "      <td>...</td>\n",
       "      <td>...</td>\n",
       "      <td>...</td>\n",
       "      <td>...</td>\n",
       "      <td>...</td>\n",
       "      <td>...</td>\n",
       "      <td>...</td>\n",
       "      <td>...</td>\n",
       "      <td>...</td>\n",
       "      <td>...</td>\n",
       "      <td>...</td>\n",
       "      <td>...</td>\n",
       "      <td>...</td>\n",
       "      <td>...</td>\n",
       "      <td>...</td>\n",
       "      <td>...</td>\n",
       "      <td>...</td>\n",
       "    </tr>\n",
       "    <tr>\n",
       "      <th>621295</th>\n",
       "      <td>1251</td>\n",
       "      <td>2020-01-30</td>\n",
       "      <td>1</td>\n",
       "      <td>0</td>\n",
       "      <td>0</td>\n",
       "      <td>0</td>\n",
       "      <td>0</td>\n",
       "      <td>7.0</td>\n",
       "      <td>0</td>\n",
       "      <td>0</td>\n",
       "      <td>...</td>\n",
       "      <td>0.0</td>\n",
       "      <td>0.0</td>\n",
       "      <td>0.0</td>\n",
       "      <td>0.0</td>\n",
       "      <td>0.0</td>\n",
       "      <td>-1.212308</td>\n",
       "      <td>-1.212308</td>\n",
       "      <td>-1.212308</td>\n",
       "      <td>-1.210000</td>\n",
       "      <td>-1.212308</td>\n",
       "    </tr>\n",
       "    <tr>\n",
       "      <th>621296</th>\n",
       "      <td>1251</td>\n",
       "      <td>2020-01-31</td>\n",
       "      <td>1</td>\n",
       "      <td>0</td>\n",
       "      <td>0</td>\n",
       "      <td>0</td>\n",
       "      <td>0</td>\n",
       "      <td>7.0</td>\n",
       "      <td>0</td>\n",
       "      <td>0</td>\n",
       "      <td>...</td>\n",
       "      <td>0.0</td>\n",
       "      <td>0.0</td>\n",
       "      <td>0.0</td>\n",
       "      <td>0.0</td>\n",
       "      <td>0.0</td>\n",
       "      <td>-1.212308</td>\n",
       "      <td>-1.212308</td>\n",
       "      <td>-1.212308</td>\n",
       "      <td>-1.210000</td>\n",
       "      <td>-1.212308</td>\n",
       "    </tr>\n",
       "    <tr>\n",
       "      <th>621297</th>\n",
       "      <td>1251</td>\n",
       "      <td>2020-02-01</td>\n",
       "      <td>1</td>\n",
       "      <td>0</td>\n",
       "      <td>0</td>\n",
       "      <td>0</td>\n",
       "      <td>0</td>\n",
       "      <td>7.0</td>\n",
       "      <td>0</td>\n",
       "      <td>0</td>\n",
       "      <td>...</td>\n",
       "      <td>0.0</td>\n",
       "      <td>0.0</td>\n",
       "      <td>0.0</td>\n",
       "      <td>0.0</td>\n",
       "      <td>0.0</td>\n",
       "      <td>-1.212308</td>\n",
       "      <td>-1.212308</td>\n",
       "      <td>-1.212308</td>\n",
       "      <td>-1.210000</td>\n",
       "      <td>-1.212308</td>\n",
       "    </tr>\n",
       "    <tr>\n",
       "      <th>621298</th>\n",
       "      <td>1251</td>\n",
       "      <td>2020-02-02</td>\n",
       "      <td>1</td>\n",
       "      <td>0</td>\n",
       "      <td>0</td>\n",
       "      <td>0</td>\n",
       "      <td>0</td>\n",
       "      <td>7.0</td>\n",
       "      <td>0</td>\n",
       "      <td>0</td>\n",
       "      <td>...</td>\n",
       "      <td>0.0</td>\n",
       "      <td>0.0</td>\n",
       "      <td>0.0</td>\n",
       "      <td>0.0</td>\n",
       "      <td>0.0</td>\n",
       "      <td>-1.212308</td>\n",
       "      <td>-1.212308</td>\n",
       "      <td>-1.212308</td>\n",
       "      <td>-1.210000</td>\n",
       "      <td>-1.212308</td>\n",
       "    </tr>\n",
       "    <tr>\n",
       "      <th>621299</th>\n",
       "      <td>1251</td>\n",
       "      <td>2020-02-03</td>\n",
       "      <td>1</td>\n",
       "      <td>0</td>\n",
       "      <td>0</td>\n",
       "      <td>0</td>\n",
       "      <td>0</td>\n",
       "      <td>7.0</td>\n",
       "      <td>0</td>\n",
       "      <td>0</td>\n",
       "      <td>...</td>\n",
       "      <td>0.0</td>\n",
       "      <td>0.0</td>\n",
       "      <td>0.0</td>\n",
       "      <td>0.0</td>\n",
       "      <td>0.0</td>\n",
       "      <td>-1.212308</td>\n",
       "      <td>-1.212308</td>\n",
       "      <td>-1.212308</td>\n",
       "      <td>-1.210000</td>\n",
       "      <td>-1.212308</td>\n",
       "    </tr>\n",
       "  </tbody>\n",
       "</table>\n",
       "<p>621300 rows × 136 columns</p>\n",
       "</div>"
      ],
      "text/plain": [
       "        SITE_ID        DATE  CELL_TYPE_Macro  CELL_TYPE_Mobil  CELL_TYPE_TRP  \\\n",
       "0           146  2019-04-10                1                0              0   \n",
       "1           146  2019-04-11                1                0              0   \n",
       "2           146  2019-04-12                1                0              0   \n",
       "3           146  2019-04-13                1                0              0   \n",
       "4           146  2019-04-14                1                0              0   \n",
       "...         ...         ...              ...              ...            ...   \n",
       "621295     1251  2020-01-30                1                0              0   \n",
       "621296     1251  2020-01-31                1                0              0   \n",
       "621297     1251  2020-02-01                1                0              0   \n",
       "621298     1251  2020-02-02                1                0              0   \n",
       "621299     1251  2020-02-03                1                0              0   \n",
       "\n",
       "        CELL_TYPE_Tx site  CELL_TYPE_micro  N_TRANSPORTED_SITES  \\\n",
       "0                       0                0                  3.0   \n",
       "1                       0                0                  3.0   \n",
       "2                       0                0                  3.0   \n",
       "3                       0                0                  3.0   \n",
       "4                       0                0                  3.0   \n",
       "...                   ...              ...                  ...   \n",
       "621295                  0                0                  7.0   \n",
       "621296                  0                0                  7.0   \n",
       "621297                  0                0                  7.0   \n",
       "621298                  0                0                  7.0   \n",
       "621299                  0                0                  7.0   \n",
       "\n",
       "        GEOGRAPHIC_CLUSTER_K_0  GEOGRAPHIC_CLUSTER_K_1  ...  \\\n",
       "0                            0                       0  ...   \n",
       "1                            0                       0  ...   \n",
       "2                            0                       0  ...   \n",
       "3                            0                       0  ...   \n",
       "4                            0                       0  ...   \n",
       "...                        ...                     ...  ...   \n",
       "621295                       0                       0  ...   \n",
       "621296                       0                       0  ...   \n",
       "621297                       0                       0  ...   \n",
       "621298                       0                       0  ...   \n",
       "621299                       0                       0  ...   \n",
       "\n",
       "        skew_equipment_alarms_prev14d  skew_fire/smoke_alarms_prev14d  \\\n",
       "0                                 0.0                             0.0   \n",
       "1                                 0.0                             0.0   \n",
       "2                                 0.0                             0.0   \n",
       "3                                 0.0                             0.0   \n",
       "4                                 0.0                             0.0   \n",
       "...                               ...                             ...   \n",
       "621295                            0.0                             0.0   \n",
       "621296                            0.0                             0.0   \n",
       "621297                            0.0                             0.0   \n",
       "621298                            0.0                             0.0   \n",
       "621299                            0.0                             0.0   \n",
       "\n",
       "        skew_ge_alarms_prev14d  skew_power_alarms_prev14d  \\\n",
       "0                          0.0                        0.0   \n",
       "1                          0.0                        0.0   \n",
       "2                          0.0                        0.0   \n",
       "3                          0.0                        0.0   \n",
       "4                          0.0                        0.0   \n",
       "...                        ...                        ...   \n",
       "621295                     0.0                        0.0   \n",
       "621296                     0.0                        0.0   \n",
       "621297                     0.0                        0.0   \n",
       "621298                     0.0                        0.0   \n",
       "621299                     0.0                        0.0   \n",
       "\n",
       "        skew_temperature_alarms_prev14d  kurt_equipment_alarms_prev14d  \\\n",
       "0                                   0.0                      -1.212308   \n",
       "1                                   0.0                      -1.212308   \n",
       "2                                   0.0                      -1.212308   \n",
       "3                                   0.0                      -1.212308   \n",
       "4                                   0.0                      -1.212308   \n",
       "...                                 ...                            ...   \n",
       "621295                              0.0                      -1.212308   \n",
       "621296                              0.0                      -1.212308   \n",
       "621297                              0.0                      -1.212308   \n",
       "621298                              0.0                      -1.212308   \n",
       "621299                              0.0                      -1.212308   \n",
       "\n",
       "        kurt_fire/smoke_alarms_prev14d  kurt_ge_alarms_prev14d  \\\n",
       "0                            -1.212308               -1.212308   \n",
       "1                            -1.212308               -1.212308   \n",
       "2                            -1.212308               -1.212308   \n",
       "3                            -1.212308               -1.212308   \n",
       "4                            -1.212308               -1.212308   \n",
       "...                                ...                     ...   \n",
       "621295                       -1.212308               -1.212308   \n",
       "621296                       -1.212308               -1.212308   \n",
       "621297                       -1.212308               -1.212308   \n",
       "621298                       -1.212308               -1.212308   \n",
       "621299                       -1.212308               -1.212308   \n",
       "\n",
       "        kurt_power_alarms_prev14d  kurt_temperature_alarms_prev14d  \n",
       "0                       -1.212308                        -1.212308  \n",
       "1                       -1.212308                        -1.212308  \n",
       "2                       -1.212308                        -1.212308  \n",
       "3                       -1.212308                        -1.212308  \n",
       "4                       -1.212308                        -1.212308  \n",
       "...                           ...                              ...  \n",
       "621295                  -1.210000                        -1.212308  \n",
       "621296                  -1.210000                        -1.212308  \n",
       "621297                  -1.210000                        -1.212308  \n",
       "621298                  -1.210000                        -1.212308  \n",
       "621299                  -1.210000                        -1.212308  \n",
       "\n",
       "[621300 rows x 136 columns]"
      ]
     },
     "execution_count": 20,
     "metadata": {},
     "output_type": "execute_result"
    }
   ],
   "source": [
    "train_df=pd.read_csv('train.csv')"
   ]
  },
  {
   "cell_type": "code",
   "execution_count": 79,
   "metadata": {
    "colab": {
     "base_uri": "https://localhost:8080/",
     "height": 422
    },
    "id": "ALHDtBR0yafK",
    "outputId": "df4f3c81-9017-4aa8-dea5-df52aff9744c"
   },
   "outputs": [],
   "source": [
    "# Data Frame after PCA is implememnted\n",
    "X=pd.DataFrame(PCA_arr)"
   ]
  },
  {
   "cell_type": "code",
   "execution_count": 32,
   "metadata": {
    "colab": {
     "base_uri": "https://localhost:8080/"
    },
    "id": "y-1B9TaH1pdn",
    "outputId": "ab0789cc-2b4f-40b7-f11a-54d1bd0c1cbc"
   },
   "outputs": [
    {
     "data": {
      "text/plain": [
       "0         0\n",
       "1         0\n",
       "2         0\n",
       "3         0\n",
       "4         0\n",
       "         ..\n",
       "621295    0\n",
       "621296    0\n",
       "621297    0\n",
       "621298    0\n",
       "621299    0\n",
       "Name: aircon_sum_target_next14d, Length: 621300, dtype: int64"
      ]
     },
     "execution_count": 32,
     "metadata": {},
     "output_type": "execute_result"
    }
   ],
   "source": [
    "# target Variable\n",
    "target_variable = 'aircon_sum_target_next14d'\n",
    "y=train_df['aircon_sum_target_next14d']"
   ]
  },
  {
   "cell_type": "markdown",
   "metadata": {
    "id": "duvWgP-qyafO"
   },
   "source": [
    "Having the X and  in DataFrame platform, we split the data into train and test data set."
   ]
  },
  {
   "cell_type": "markdown",
   "metadata": {
    "id": "gdkeUKzeyafO"
   },
   "source": []
  },
  {
   "cell_type": "markdown",
   "metadata": {
    "id": "IbOUG1wSyafO"
   },
   "source": [
    "."
   ]
  },
  {
   "cell_type": "markdown",
   "metadata": {
    "id": "EE2DbIGLyafP"
   },
   "source": [
    "# Splitting data into Test and Train Set"
   ]
  },
  {
   "cell_type": "code",
   "execution_count": 31,
   "metadata": {},
   "outputs": [
    {
     "name": "stdout",
     "output_type": "stream",
     "text": [
      "617717 3583\n"
     ]
    }
   ],
   "source": [
    "count_class_0, count_class_1 = y.value_counts()\n",
    "print(count_class_0, count_class_1)"
   ]
  },
  {
   "cell_type": "code",
   "execution_count": 80,
   "metadata": {},
   "outputs": [],
   "source": [
    "concat_df= pd.concat([X,y], axis = 1)"
   ]
  },
  {
   "cell_type": "code",
   "execution_count": 81,
   "metadata": {},
   "outputs": [
    {
     "data": {
      "text/plain": [
       "0    617717\n",
       "1    100000\n",
       "Name: aircon_sum_target_next14d, dtype: int64"
      ]
     },
     "execution_count": 81,
     "metadata": {},
     "output_type": "execute_result"
    }
   ],
   "source": [
    "from sklearn.utils import resample\n",
    "\n",
    "#Over-sample Minority Class\n",
    "#1) Separate majority and minority classes\n",
    "df_majority = concat_df[concat_df[target_variable]==0] #\"target\" is the name of the target column, change it accordingly to your dataset\n",
    "df_minority = concat_df[concat_df[target_variable]==1] #\"target\" is the name of the target column, change it accordingly to your dataset\n",
    " \n",
    "#2) Oversample minority class\n",
    "df_minority_oversampled = resample(df_minority, \n",
    "                                   replace=True,\n",
    "                                   n_samples=100000,     # number of samples into the minority class (change it accordingly to your dataset)\n",
    "                                   random_state=123)  # reproducible results\n",
    " \n",
    "#3) Combine oversampled minority class with majority class\n",
    "df_oversampled = pd.concat([df_minority_oversampled, df_majority])\n",
    " \n",
    "#4) Display new class counts\n",
    "df_oversampled[target_variable].value_counts() #\"target\" is the name of the target column, change it accordingly to your dataset"
   ]
  },
  {
   "cell_type": "code",
   "execution_count": 82,
   "metadata": {
    "colab": {
     "base_uri": "https://localhost:8080/"
    },
    "id": "S62GCLC1yafP",
    "outputId": "dbe084bb-72ed-4b14-bf01-9a50166c338a"
   },
   "outputs": [
    {
     "name": "stdout",
     "output_type": "stream",
     "text": [
      "(574173, 32) (143544, 32)\n"
     ]
    }
   ],
   "source": [
    "from sklearn.model_selection import train_test_split\n",
    "target_variable = 'aircon_sum_target_next14d'\n",
    "input_variables = df_oversampled.columns[df_oversampled.columns!=target_variable]\n",
    "X_origin_df = df_oversampled[input_variables]\n",
    "y_origin_df = df_oversampled[target_variable]\n",
    "X_origin_df = normalizer_df(X_origin_df, True)\n",
    "#SPLIT DATA INTO TRAIN AND TEST SET\n",
    "X_train, X_test, y_train, y_test = train_test_split(X_origin_df, y_origin_df, \n",
    "                                                    test_size =0.20, #by default is 75%-25%\n",
    "                                                    random_state= 123) #fix random seed for replicability\n",
    "\n",
    "print(X_train.shape, X_test.shape)"
   ]
  },
  {
   "cell_type": "markdown",
   "metadata": {
    "id": "7fOtjR1byafP"
   },
   "source": [
    "# Models"
   ]
  },
  {
   "cell_type": "code",
   "execution_count": 41,
   "metadata": {
    "id": "CJrpSrXXyafQ"
   },
   "outputs": [],
   "source": [
    "from sklearn.model_selection import GridSearchCV\n",
    "from sklearn.metrics import confusion_matrix\n",
    "from sklearn.metrics import classification_report\n",
    "from sklearn import metrics \n",
    "from sklearn.metrics import f1_score\n",
    "\n",
    "from sklearn.metrics import precision_recall_fscore_support"
   ]
  },
  {
   "cell_type": "markdown",
   "metadata": {
    "id": "nFw9mZbPyafQ"
   },
   "source": [
    "# GreadSearch Algorithm Search "
   ]
  },
  {
   "cell_type": "code",
   "execution_count": 42,
   "metadata": {
    "id": "du-aLbyQyafQ"
   },
   "outputs": [],
   "source": [
    "def hyperp_search(classifier, parameters):\n",
    "    gs = GridSearchCV(classifier, parameters, cv=3, scoring = 'f1', verbose=0, n_jobs=-1)\n",
    "    gs = gs.fit(X_train, y_train)\n",
    "    print(\"f1_train: %f using %s\" % (gs.best_score_, gs.best_params_))\n",
    "\n",
    "    best_model = gs.best_estimator_\n",
    "    y_pred = best_model.predict(X_test)\n",
    "\n",
    "    print(\"f1_test: \", f1_score(y_test, y_pred))\n",
    "    print(confusion_matrix(y_test, y_pred))\n",
    "    print(classification_report(y_test, y_pred))\n",
    "    print(precision_recall_fscore_support(y_test, y_pred, average='weighted'))"
   ]
  },
  {
   "cell_type": "markdown",
   "metadata": {
    "id": "B9SUlchNyafQ"
   },
   "source": [
    "# Random Forest"
   ]
  },
  {
   "cell_type": "code",
   "execution_count": 117,
   "metadata": {
    "colab": {
     "base_uri": "https://localhost:8080/"
    },
    "id": "W0Vt_HkXyafR",
    "outputId": "a21ce1b9-df23-4af6-d434-98e26eb34dde"
   },
   "outputs": [
    {
     "name": "stdout",
     "output_type": "stream",
     "text": [
      "f1_train: 0.520193 using {'criterion': 'gini', 'max_depth': 10, 'min_samples_leaf': 5, 'n_estimators': 5, 'random_state': 42}\n",
      "f1_test:  0.5391799790847788\n",
      "[[123289    384]\n",
      " [ 12395   7476]]\n",
      "              precision    recall  f1-score   support\n",
      "\n",
      "           0       0.91      1.00      0.95    123673\n",
      "           1       0.95      0.38      0.54     19871\n",
      "\n",
      "    accuracy                           0.91    143544\n",
      "   macro avg       0.93      0.69      0.74    143544\n",
      "weighted avg       0.91      0.91      0.89    143544\n",
      "\n",
      "(0.9145309556885896, 0.9109750320459232, 0.8937569489360926, None)\n"
     ]
    }
   ],
   "source": [
    "from sklearn.ensemble import RandomForestClassifier\n",
    "classifier = RandomForestClassifier()\n",
    "parameters = {'n_estimators':[10,50,100], \"criterion\":  ['entropy','gini'],\n",
    "              'min_samples_leaf': [10,20,100], 'random_state' : [42], 'max_depth':[5,10,15,20]}\n",
    "\n",
    "\n",
    "hyperp_search(classifier,parameters)"
   ]
  },
  {
   "cell_type": "markdown",
   "metadata": {
    "id": "82py8BBEyafR"
   },
   "source": [
    "# Decision Tree"
   ]
  },
  {
   "cell_type": "code",
   "execution_count": 118,
   "metadata": {
    "id": "YdTWH9IHyafR"
   },
   "outputs": [
    {
     "name": "stdout",
     "output_type": "stream",
     "text": [
      "f1_train: 0.556077 using {'criterion': 'gini', 'max_depth': 10, 'min_samples_leaf': 10, 'min_samples_split': 20}\n",
      "f1_test:  0.5703818336860057\n",
      "[[120911   2762]\n",
      " [ 10841   9030]]\n",
      "              precision    recall  f1-score   support\n",
      "\n",
      "           0       0.92      0.98      0.95    123673\n",
      "           1       0.77      0.45      0.57     19871\n",
      "\n",
      "    accuracy                           0.91    143544\n",
      "   macro avg       0.84      0.72      0.76    143544\n",
      "weighted avg       0.90      0.91      0.89    143544\n",
      "\n",
      "(0.8966829040497052, 0.9052346318898735, 0.8946433594745302, None)\n"
     ]
    }
   ],
   "source": [
    "from sklearn.tree import DecisionTreeClassifier\n",
    "classifier = DecisionTreeClassifier()\n",
    "parameters = {'criterion': ['entropy','gini'], \n",
    "              'max_depth': [4,5,10],\n",
    "              'min_samples_split': [20],\n",
    "              'min_samples_leaf': [10]}\n",
    "\n",
    "hyperp_search(classifier,parameters)"
   ]
  },
  {
   "cell_type": "markdown",
   "metadata": {
    "id": "pV4qOSUCyafR"
   },
   "source": [
    "# KNN"
   ]
  },
  {
   "cell_type": "code",
   "execution_count": null,
   "metadata": {
    "id": "E8vSmnWvyafS"
   },
   "outputs": [],
   "source": [
    "from sklearn.neighbors import KNeighborsClassifier\n",
    "classifier = KNeighborsClassifier()\n",
    "parameters = {'n_neighbors':np.arange(10,1000,100)}\n",
    "\n",
    "hyperp_search(classifier,parameters)"
   ]
  },
  {
   "cell_type": "markdown",
   "metadata": {
    "id": "ZZaU8GoTyafS"
   },
   "source": [
    "# Naive Bayes"
   ]
  },
  {
   "cell_type": "code",
   "execution_count": 53,
   "metadata": {
    "id": "rxDpRR58yafS"
   },
   "outputs": [
    {
     "name": "stdout",
     "output_type": "stream",
     "text": [
      "f1_score:  0.38051432934209795\n",
      "f1_test:  0.38051432934209795\n",
      "(0.8275647575974502, 0.7682452767095803, 0.7914356698947307, None)\n"
     ]
    }
   ],
   "source": [
    "from sklearn.naive_bayes import GaussianNB #or alternative NB implementations\n",
    "\n",
    "model = GaussianNB()\n",
    "\n",
    "model.fit(X_train, y_train)\n",
    "y_pred=model.predict(X_test)\n",
    "\n",
    "from sklearn.metrics import f1_score\n",
    "print(\"f1_score: \", f1_score(y_test, y_pred))\n",
    "\n",
    "print(\"f1_test: \", f1_score(y_test, y_pred))\n",
    "\n",
    "\n",
    "print(precision_recall_fscore_support(y_test, y_pred, average='weighted'))"
   ]
  },
  {
   "cell_type": "markdown",
   "metadata": {
    "id": "yxNX6BTMyafT"
   },
   "source": [
    "# AdaBoost Classifier"
   ]
  },
  {
   "cell_type": "code",
   "execution_count": 68,
   "metadata": {
    "id": "GL-ScMsuyafT"
   },
   "outputs": [
    {
     "name": "stdout",
     "output_type": "stream",
     "text": [
      "f1_train: 0.527312 using {'base_estimator': DecisionTreeClassifier(max_depth=3), 'learning_rate': 1.0, 'n_estimators': 50}\n",
      "f1_test:  0.5270991647302644\n",
      "[[120091   3582]\n",
      " [ 11478   8393]]\n",
      "              precision    recall  f1-score   support\n",
      "\n",
      "           0       0.91      0.97      0.94    123673\n",
      "           1       0.70      0.42      0.53     19871\n",
      "\n",
      "    accuracy                           0.90    143544\n",
      "   macro avg       0.81      0.70      0.73    143544\n",
      "weighted avg       0.88      0.90      0.88    143544\n",
      "\n",
      "(0.8834292320757039, 0.8950844340411303, 0.8837006818119572, None)\n"
     ]
    }
   ],
   "source": [
    "from sklearn.ensemble import AdaBoostClassifier\n",
    "classifier = AdaBoostClassifier()\n",
    "parameters = {'base_estimator': [DecisionTreeClassifier(max_depth=3)], 'n_estimators':[50,10], 'learning_rate':[1.0,0.3,0.01]}\n",
    "# AdaBoostClassifier(DecisionTreeClassifier(max_depth=3)\n",
    "# base_estimator=DecisionTreeRegressor(max_depth=3)        !!!!!!!!!!\n",
    "\n",
    "\n",
    "hyperp_search(classifier,parameters)"
   ]
  },
  {
   "cell_type": "markdown",
   "metadata": {
    "id": "fct-FghxyafT"
   },
   "source": [
    "# Bagging Classifier\n"
   ]
  },
  {
   "cell_type": "code",
   "execution_count": 70,
   "metadata": {
    "id": "JTjglImsyafT"
   },
   "outputs": [
    {
     "name": "stdout",
     "output_type": "stream",
     "text": [
      "f1_train: 0.220833 using {'base_estimator': DecisionTreeClassifier(max_depth=3), 'bootstrap': True, 'n_estimators': 50}\n",
      "f1_test:  0.2455111762550385\n",
      "[[121998   1675]\n",
      " [ 16856   3015]]\n",
      "              precision    recall  f1-score   support\n",
      "\n",
      "           0       0.88      0.99      0.93    123673\n",
      "           1       0.64      0.15      0.25     19871\n",
      "\n",
      "    accuracy                           0.87    143544\n",
      "   macro avg       0.76      0.57      0.59    143544\n",
      "weighted avg       0.85      0.87      0.83    143544\n",
      "\n",
      "(0.8459712140931352, 0.8709036950342752, 0.8347394763916686, None)\n"
     ]
    }
   ],
   "source": [
    "from sklearn.ensemble import BaggingClassifier\n",
    "classifier = BaggingClassifier()\n",
    "parameters = {'base_estimator': [DecisionTreeClassifier(max_depth=3)], 'n_estimators':[50,10],'bootstrap':[True, False]}\n",
    "\n",
    "hyperp_search(classifier,parameters)"
   ]
  },
  {
   "cell_type": "markdown",
   "metadata": {
    "id": "kwvmNnityafT"
   },
   "source": [
    "# Gradient Boosting Classifier"
   ]
  },
  {
   "cell_type": "code",
   "execution_count": 121,
   "metadata": {
    "id": "mlm5e4nXyafU"
   },
   "outputs": [
    {
     "ename": "KeyboardInterrupt",
     "evalue": "",
     "output_type": "error",
     "traceback": [
      "\u001b[0;31m---------------------------------------------------------------------------\u001b[0m",
      "\u001b[0;31mKeyboardInterrupt\u001b[0m                         Traceback (most recent call last)",
      "\u001b[0;32m<ipython-input-121-ba47ea385aeb>\u001b[0m in \u001b[0;36m<module>\u001b[0;34m\u001b[0m\n\u001b[1;32m      4\u001b[0m \u001b[0mparameters\u001b[0m \u001b[0;34m=\u001b[0m \u001b[0;34m{\u001b[0m\u001b[0;34m'loss'\u001b[0m\u001b[0;34m:\u001b[0m\u001b[0;34m[\u001b[0m\u001b[0;34m'deviance'\u001b[0m\u001b[0;34m]\u001b[0m\u001b[0;34m,\u001b[0m \u001b[0;34m'learning_rate'\u001b[0m\u001b[0;34m:\u001b[0m\u001b[0;34m[\u001b[0m\u001b[0;36m0.1\u001b[0m\u001b[0;34m,\u001b[0m\u001b[0;36m0.3\u001b[0m\u001b[0;34m]\u001b[0m\u001b[0;34m,\u001b[0m\u001b[0;34m'n_estimators'\u001b[0m\u001b[0;34m:\u001b[0m \u001b[0;34m[\u001b[0m\u001b[0;36m100\u001b[0m\u001b[0;34m]\u001b[0m\u001b[0;34m,\u001b[0m \u001b[0;34m'subsample'\u001b[0m\u001b[0;34m:\u001b[0m\u001b[0;34m[\u001b[0m\u001b[0;36m1.0\u001b[0m\u001b[0;34m]\u001b[0m\u001b[0;34m,\u001b[0m \u001b[0;34m'criterion'\u001b[0m\u001b[0;34m:\u001b[0m\u001b[0;34m[\u001b[0m\u001b[0;34m'friedman_mse'\u001b[0m\u001b[0;34m]\u001b[0m\u001b[0;34m,\u001b[0m \u001b[0;34m'min_samples_split'\u001b[0m\u001b[0;34m:\u001b[0m\u001b[0;34m[\u001b[0m\u001b[0;36m100\u001b[0m\u001b[0;34m,\u001b[0m \u001b[0;36m50\u001b[0m\u001b[0;34m]\u001b[0m\u001b[0;34m,\u001b[0m \u001b[0;34m'min_samples_leaf'\u001b[0m\u001b[0;34m:\u001b[0m\u001b[0;34m[\u001b[0m\u001b[0;36m10000\u001b[0m\u001b[0;34m]\u001b[0m\u001b[0;34m,\u001b[0m \u001b[0;34m'max_depth'\u001b[0m\u001b[0;34m:\u001b[0m\u001b[0;34m[\u001b[0m\u001b[0;36m6\u001b[0m\u001b[0;34m,\u001b[0m\u001b[0;36m5\u001b[0m\u001b[0;34m,\u001b[0m\u001b[0;36m4\u001b[0m\u001b[0;34m,\u001b[0m\u001b[0;36m3\u001b[0m\u001b[0;34m]\u001b[0m\u001b[0;34m,\u001b[0m \u001b[0;34m'max_features'\u001b[0m\u001b[0;34m:\u001b[0m\u001b[0;34m[\u001b[0m\u001b[0;34m'auto'\u001b[0m\u001b[0;34m]\u001b[0m\u001b[0;34m}\u001b[0m\u001b[0;34m\u001b[0m\u001b[0;34m\u001b[0m\u001b[0m\n\u001b[1;32m      5\u001b[0m \u001b[0;34m\u001b[0m\u001b[0m\n\u001b[0;32m----> 6\u001b[0;31m \u001b[0mhyperp_search\u001b[0m\u001b[0;34m(\u001b[0m\u001b[0mclassifier\u001b[0m\u001b[0;34m,\u001b[0m\u001b[0mparameters\u001b[0m\u001b[0;34m)\u001b[0m\u001b[0;34m\u001b[0m\u001b[0;34m\u001b[0m\u001b[0m\n\u001b[0m",
      "\u001b[0;32m<ipython-input-42-d5492226d19d>\u001b[0m in \u001b[0;36mhyperp_search\u001b[0;34m(classifier, parameters)\u001b[0m\n\u001b[1;32m      1\u001b[0m \u001b[0;32mdef\u001b[0m \u001b[0mhyperp_search\u001b[0m\u001b[0;34m(\u001b[0m\u001b[0mclassifier\u001b[0m\u001b[0;34m,\u001b[0m \u001b[0mparameters\u001b[0m\u001b[0;34m)\u001b[0m\u001b[0;34m:\u001b[0m\u001b[0;34m\u001b[0m\u001b[0;34m\u001b[0m\u001b[0m\n\u001b[1;32m      2\u001b[0m     \u001b[0mgs\u001b[0m \u001b[0;34m=\u001b[0m \u001b[0mGridSearchCV\u001b[0m\u001b[0;34m(\u001b[0m\u001b[0mclassifier\u001b[0m\u001b[0;34m,\u001b[0m \u001b[0mparameters\u001b[0m\u001b[0;34m,\u001b[0m \u001b[0mcv\u001b[0m\u001b[0;34m=\u001b[0m\u001b[0;36m3\u001b[0m\u001b[0;34m,\u001b[0m \u001b[0mscoring\u001b[0m \u001b[0;34m=\u001b[0m \u001b[0;34m'f1'\u001b[0m\u001b[0;34m,\u001b[0m \u001b[0mverbose\u001b[0m\u001b[0;34m=\u001b[0m\u001b[0;36m0\u001b[0m\u001b[0;34m,\u001b[0m \u001b[0mn_jobs\u001b[0m\u001b[0;34m=\u001b[0m\u001b[0;34m-\u001b[0m\u001b[0;36m1\u001b[0m\u001b[0;34m)\u001b[0m\u001b[0;34m\u001b[0m\u001b[0;34m\u001b[0m\u001b[0m\n\u001b[0;32m----> 3\u001b[0;31m     \u001b[0mgs\u001b[0m \u001b[0;34m=\u001b[0m \u001b[0mgs\u001b[0m\u001b[0;34m.\u001b[0m\u001b[0mfit\u001b[0m\u001b[0;34m(\u001b[0m\u001b[0mX_train\u001b[0m\u001b[0;34m,\u001b[0m \u001b[0my_train\u001b[0m\u001b[0;34m)\u001b[0m\u001b[0;34m\u001b[0m\u001b[0;34m\u001b[0m\u001b[0m\n\u001b[0m\u001b[1;32m      4\u001b[0m     \u001b[0mprint\u001b[0m\u001b[0;34m(\u001b[0m\u001b[0;34m\"f1_train: %f using %s\"\u001b[0m \u001b[0;34m%\u001b[0m \u001b[0;34m(\u001b[0m\u001b[0mgs\u001b[0m\u001b[0;34m.\u001b[0m\u001b[0mbest_score_\u001b[0m\u001b[0;34m,\u001b[0m \u001b[0mgs\u001b[0m\u001b[0;34m.\u001b[0m\u001b[0mbest_params_\u001b[0m\u001b[0;34m)\u001b[0m\u001b[0;34m)\u001b[0m\u001b[0;34m\u001b[0m\u001b[0;34m\u001b[0m\u001b[0m\n\u001b[1;32m      5\u001b[0m \u001b[0;34m\u001b[0m\u001b[0m\n",
      "\u001b[0;32m~/anaconda3/envs/thesis/lib/python3.8/site-packages/sklearn/utils/validation.py\u001b[0m in \u001b[0;36minner_f\u001b[0;34m(*args, **kwargs)\u001b[0m\n\u001b[1;32m     70\u001b[0m                           FutureWarning)\n\u001b[1;32m     71\u001b[0m         \u001b[0mkwargs\u001b[0m\u001b[0;34m.\u001b[0m\u001b[0mupdate\u001b[0m\u001b[0;34m(\u001b[0m\u001b[0;34m{\u001b[0m\u001b[0mk\u001b[0m\u001b[0;34m:\u001b[0m \u001b[0marg\u001b[0m \u001b[0;32mfor\u001b[0m \u001b[0mk\u001b[0m\u001b[0;34m,\u001b[0m \u001b[0marg\u001b[0m \u001b[0;32min\u001b[0m \u001b[0mzip\u001b[0m\u001b[0;34m(\u001b[0m\u001b[0msig\u001b[0m\u001b[0;34m.\u001b[0m\u001b[0mparameters\u001b[0m\u001b[0;34m,\u001b[0m \u001b[0margs\u001b[0m\u001b[0;34m)\u001b[0m\u001b[0;34m}\u001b[0m\u001b[0;34m)\u001b[0m\u001b[0;34m\u001b[0m\u001b[0;34m\u001b[0m\u001b[0m\n\u001b[0;32m---> 72\u001b[0;31m         \u001b[0;32mreturn\u001b[0m \u001b[0mf\u001b[0m\u001b[0;34m(\u001b[0m\u001b[0;34m**\u001b[0m\u001b[0mkwargs\u001b[0m\u001b[0;34m)\u001b[0m\u001b[0;34m\u001b[0m\u001b[0;34m\u001b[0m\u001b[0m\n\u001b[0m\u001b[1;32m     73\u001b[0m     \u001b[0;32mreturn\u001b[0m \u001b[0minner_f\u001b[0m\u001b[0;34m\u001b[0m\u001b[0;34m\u001b[0m\u001b[0m\n\u001b[1;32m     74\u001b[0m \u001b[0;34m\u001b[0m\u001b[0m\n",
      "\u001b[0;32m~/anaconda3/envs/thesis/lib/python3.8/site-packages/sklearn/model_selection/_search.py\u001b[0m in \u001b[0;36mfit\u001b[0;34m(self, X, y, groups, **fit_params)\u001b[0m\n\u001b[1;32m    734\u001b[0m                 \u001b[0;32mreturn\u001b[0m \u001b[0mresults\u001b[0m\u001b[0;34m\u001b[0m\u001b[0;34m\u001b[0m\u001b[0m\n\u001b[1;32m    735\u001b[0m \u001b[0;34m\u001b[0m\u001b[0m\n\u001b[0;32m--> 736\u001b[0;31m             \u001b[0mself\u001b[0m\u001b[0;34m.\u001b[0m\u001b[0m_run_search\u001b[0m\u001b[0;34m(\u001b[0m\u001b[0mevaluate_candidates\u001b[0m\u001b[0;34m)\u001b[0m\u001b[0;34m\u001b[0m\u001b[0;34m\u001b[0m\u001b[0m\n\u001b[0m\u001b[1;32m    737\u001b[0m \u001b[0;34m\u001b[0m\u001b[0m\n\u001b[1;32m    738\u001b[0m         \u001b[0;31m# For multi-metric evaluation, store the best_index_, best_params_ and\u001b[0m\u001b[0;34m\u001b[0m\u001b[0;34m\u001b[0m\u001b[0;34m\u001b[0m\u001b[0m\n",
      "\u001b[0;32m~/anaconda3/envs/thesis/lib/python3.8/site-packages/sklearn/model_selection/_search.py\u001b[0m in \u001b[0;36m_run_search\u001b[0;34m(self, evaluate_candidates)\u001b[0m\n\u001b[1;32m   1186\u001b[0m     \u001b[0;32mdef\u001b[0m \u001b[0m_run_search\u001b[0m\u001b[0;34m(\u001b[0m\u001b[0mself\u001b[0m\u001b[0;34m,\u001b[0m \u001b[0mevaluate_candidates\u001b[0m\u001b[0;34m)\u001b[0m\u001b[0;34m:\u001b[0m\u001b[0;34m\u001b[0m\u001b[0;34m\u001b[0m\u001b[0m\n\u001b[1;32m   1187\u001b[0m         \u001b[0;34m\"\"\"Search all candidates in param_grid\"\"\"\u001b[0m\u001b[0;34m\u001b[0m\u001b[0;34m\u001b[0m\u001b[0m\n\u001b[0;32m-> 1188\u001b[0;31m         \u001b[0mevaluate_candidates\u001b[0m\u001b[0;34m(\u001b[0m\u001b[0mParameterGrid\u001b[0m\u001b[0;34m(\u001b[0m\u001b[0mself\u001b[0m\u001b[0;34m.\u001b[0m\u001b[0mparam_grid\u001b[0m\u001b[0;34m)\u001b[0m\u001b[0;34m)\u001b[0m\u001b[0;34m\u001b[0m\u001b[0;34m\u001b[0m\u001b[0m\n\u001b[0m\u001b[1;32m   1189\u001b[0m \u001b[0;34m\u001b[0m\u001b[0m\n\u001b[1;32m   1190\u001b[0m \u001b[0;34m\u001b[0m\u001b[0m\n",
      "\u001b[0;32m~/anaconda3/envs/thesis/lib/python3.8/site-packages/sklearn/model_selection/_search.py\u001b[0m in \u001b[0;36mevaluate_candidates\u001b[0;34m(candidate_params)\u001b[0m\n\u001b[1;32m    706\u001b[0m                               n_splits, n_candidates, n_candidates * n_splits))\n\u001b[1;32m    707\u001b[0m \u001b[0;34m\u001b[0m\u001b[0m\n\u001b[0;32m--> 708\u001b[0;31m                 out = parallel(delayed(_fit_and_score)(clone(base_estimator),\n\u001b[0m\u001b[1;32m    709\u001b[0m                                                        \u001b[0mX\u001b[0m\u001b[0;34m,\u001b[0m \u001b[0my\u001b[0m\u001b[0;34m,\u001b[0m\u001b[0;34m\u001b[0m\u001b[0;34m\u001b[0m\u001b[0m\n\u001b[1;32m    710\u001b[0m                                                        \u001b[0mtrain\u001b[0m\u001b[0;34m=\u001b[0m\u001b[0mtrain\u001b[0m\u001b[0;34m,\u001b[0m \u001b[0mtest\u001b[0m\u001b[0;34m=\u001b[0m\u001b[0mtest\u001b[0m\u001b[0;34m,\u001b[0m\u001b[0;34m\u001b[0m\u001b[0;34m\u001b[0m\u001b[0m\n",
      "\u001b[0;32m~/anaconda3/envs/thesis/lib/python3.8/site-packages/joblib/parallel.py\u001b[0m in \u001b[0;36m__call__\u001b[0;34m(self, iterable)\u001b[0m\n\u001b[1;32m   1059\u001b[0m \u001b[0;34m\u001b[0m\u001b[0m\n\u001b[1;32m   1060\u001b[0m             \u001b[0;32mwith\u001b[0m \u001b[0mself\u001b[0m\u001b[0;34m.\u001b[0m\u001b[0m_backend\u001b[0m\u001b[0;34m.\u001b[0m\u001b[0mretrieval_context\u001b[0m\u001b[0;34m(\u001b[0m\u001b[0;34m)\u001b[0m\u001b[0;34m:\u001b[0m\u001b[0;34m\u001b[0m\u001b[0;34m\u001b[0m\u001b[0m\n\u001b[0;32m-> 1061\u001b[0;31m                 \u001b[0mself\u001b[0m\u001b[0;34m.\u001b[0m\u001b[0mretrieve\u001b[0m\u001b[0;34m(\u001b[0m\u001b[0;34m)\u001b[0m\u001b[0;34m\u001b[0m\u001b[0;34m\u001b[0m\u001b[0m\n\u001b[0m\u001b[1;32m   1062\u001b[0m             \u001b[0;31m# Make sure that we get a last message telling us we are done\u001b[0m\u001b[0;34m\u001b[0m\u001b[0;34m\u001b[0m\u001b[0;34m\u001b[0m\u001b[0m\n\u001b[1;32m   1063\u001b[0m             \u001b[0melapsed_time\u001b[0m \u001b[0;34m=\u001b[0m \u001b[0mtime\u001b[0m\u001b[0;34m.\u001b[0m\u001b[0mtime\u001b[0m\u001b[0;34m(\u001b[0m\u001b[0;34m)\u001b[0m \u001b[0;34m-\u001b[0m \u001b[0mself\u001b[0m\u001b[0;34m.\u001b[0m\u001b[0m_start_time\u001b[0m\u001b[0;34m\u001b[0m\u001b[0;34m\u001b[0m\u001b[0m\n",
      "\u001b[0;32m~/anaconda3/envs/thesis/lib/python3.8/site-packages/joblib/parallel.py\u001b[0m in \u001b[0;36mretrieve\u001b[0;34m(self)\u001b[0m\n\u001b[1;32m    938\u001b[0m             \u001b[0;32mtry\u001b[0m\u001b[0;34m:\u001b[0m\u001b[0;34m\u001b[0m\u001b[0;34m\u001b[0m\u001b[0m\n\u001b[1;32m    939\u001b[0m                 \u001b[0;32mif\u001b[0m \u001b[0mgetattr\u001b[0m\u001b[0;34m(\u001b[0m\u001b[0mself\u001b[0m\u001b[0;34m.\u001b[0m\u001b[0m_backend\u001b[0m\u001b[0;34m,\u001b[0m \u001b[0;34m'supports_timeout'\u001b[0m\u001b[0;34m,\u001b[0m \u001b[0;32mFalse\u001b[0m\u001b[0;34m)\u001b[0m\u001b[0;34m:\u001b[0m\u001b[0;34m\u001b[0m\u001b[0;34m\u001b[0m\u001b[0m\n\u001b[0;32m--> 940\u001b[0;31m                     \u001b[0mself\u001b[0m\u001b[0;34m.\u001b[0m\u001b[0m_output\u001b[0m\u001b[0;34m.\u001b[0m\u001b[0mextend\u001b[0m\u001b[0;34m(\u001b[0m\u001b[0mjob\u001b[0m\u001b[0;34m.\u001b[0m\u001b[0mget\u001b[0m\u001b[0;34m(\u001b[0m\u001b[0mtimeout\u001b[0m\u001b[0;34m=\u001b[0m\u001b[0mself\u001b[0m\u001b[0;34m.\u001b[0m\u001b[0mtimeout\u001b[0m\u001b[0;34m)\u001b[0m\u001b[0;34m)\u001b[0m\u001b[0;34m\u001b[0m\u001b[0;34m\u001b[0m\u001b[0m\n\u001b[0m\u001b[1;32m    941\u001b[0m                 \u001b[0;32melse\u001b[0m\u001b[0;34m:\u001b[0m\u001b[0;34m\u001b[0m\u001b[0;34m\u001b[0m\u001b[0m\n\u001b[1;32m    942\u001b[0m                     \u001b[0mself\u001b[0m\u001b[0;34m.\u001b[0m\u001b[0m_output\u001b[0m\u001b[0;34m.\u001b[0m\u001b[0mextend\u001b[0m\u001b[0;34m(\u001b[0m\u001b[0mjob\u001b[0m\u001b[0;34m.\u001b[0m\u001b[0mget\u001b[0m\u001b[0;34m(\u001b[0m\u001b[0;34m)\u001b[0m\u001b[0;34m)\u001b[0m\u001b[0;34m\u001b[0m\u001b[0;34m\u001b[0m\u001b[0m\n",
      "\u001b[0;32m~/anaconda3/envs/thesis/lib/python3.8/site-packages/joblib/_parallel_backends.py\u001b[0m in \u001b[0;36mwrap_future_result\u001b[0;34m(future, timeout)\u001b[0m\n\u001b[1;32m    540\u001b[0m         AsyncResults.get from multiprocessing.\"\"\"\n\u001b[1;32m    541\u001b[0m         \u001b[0;32mtry\u001b[0m\u001b[0;34m:\u001b[0m\u001b[0;34m\u001b[0m\u001b[0;34m\u001b[0m\u001b[0m\n\u001b[0;32m--> 542\u001b[0;31m             \u001b[0;32mreturn\u001b[0m \u001b[0mfuture\u001b[0m\u001b[0;34m.\u001b[0m\u001b[0mresult\u001b[0m\u001b[0;34m(\u001b[0m\u001b[0mtimeout\u001b[0m\u001b[0;34m=\u001b[0m\u001b[0mtimeout\u001b[0m\u001b[0;34m)\u001b[0m\u001b[0;34m\u001b[0m\u001b[0;34m\u001b[0m\u001b[0m\n\u001b[0m\u001b[1;32m    543\u001b[0m         \u001b[0;32mexcept\u001b[0m \u001b[0mCfTimeoutError\u001b[0m \u001b[0;32mas\u001b[0m \u001b[0me\u001b[0m\u001b[0;34m:\u001b[0m\u001b[0;34m\u001b[0m\u001b[0;34m\u001b[0m\u001b[0m\n\u001b[1;32m    544\u001b[0m             \u001b[0;32mraise\u001b[0m \u001b[0mTimeoutError\u001b[0m \u001b[0;32mfrom\u001b[0m \u001b[0me\u001b[0m\u001b[0;34m\u001b[0m\u001b[0;34m\u001b[0m\u001b[0m\n",
      "\u001b[0;32m~/anaconda3/envs/thesis/lib/python3.8/concurrent/futures/_base.py\u001b[0m in \u001b[0;36mresult\u001b[0;34m(self, timeout)\u001b[0m\n\u001b[1;32m    432\u001b[0m                 \u001b[0;32mreturn\u001b[0m \u001b[0mself\u001b[0m\u001b[0;34m.\u001b[0m\u001b[0m__get_result\u001b[0m\u001b[0;34m(\u001b[0m\u001b[0;34m)\u001b[0m\u001b[0;34m\u001b[0m\u001b[0;34m\u001b[0m\u001b[0m\n\u001b[1;32m    433\u001b[0m \u001b[0;34m\u001b[0m\u001b[0m\n\u001b[0;32m--> 434\u001b[0;31m             \u001b[0mself\u001b[0m\u001b[0;34m.\u001b[0m\u001b[0m_condition\u001b[0m\u001b[0;34m.\u001b[0m\u001b[0mwait\u001b[0m\u001b[0;34m(\u001b[0m\u001b[0mtimeout\u001b[0m\u001b[0;34m)\u001b[0m\u001b[0;34m\u001b[0m\u001b[0;34m\u001b[0m\u001b[0m\n\u001b[0m\u001b[1;32m    435\u001b[0m \u001b[0;34m\u001b[0m\u001b[0m\n\u001b[1;32m    436\u001b[0m             \u001b[0;32mif\u001b[0m \u001b[0mself\u001b[0m\u001b[0;34m.\u001b[0m\u001b[0m_state\u001b[0m \u001b[0;32min\u001b[0m \u001b[0;34m[\u001b[0m\u001b[0mCANCELLED\u001b[0m\u001b[0;34m,\u001b[0m \u001b[0mCANCELLED_AND_NOTIFIED\u001b[0m\u001b[0;34m]\u001b[0m\u001b[0;34m:\u001b[0m\u001b[0;34m\u001b[0m\u001b[0;34m\u001b[0m\u001b[0m\n",
      "\u001b[0;32m~/anaconda3/envs/thesis/lib/python3.8/threading.py\u001b[0m in \u001b[0;36mwait\u001b[0;34m(self, timeout)\u001b[0m\n\u001b[1;32m    300\u001b[0m         \u001b[0;32mtry\u001b[0m\u001b[0;34m:\u001b[0m    \u001b[0;31m# restore state no matter what (e.g., KeyboardInterrupt)\u001b[0m\u001b[0;34m\u001b[0m\u001b[0;34m\u001b[0m\u001b[0m\n\u001b[1;32m    301\u001b[0m             \u001b[0;32mif\u001b[0m \u001b[0mtimeout\u001b[0m \u001b[0;32mis\u001b[0m \u001b[0;32mNone\u001b[0m\u001b[0;34m:\u001b[0m\u001b[0;34m\u001b[0m\u001b[0;34m\u001b[0m\u001b[0m\n\u001b[0;32m--> 302\u001b[0;31m                 \u001b[0mwaiter\u001b[0m\u001b[0;34m.\u001b[0m\u001b[0macquire\u001b[0m\u001b[0;34m(\u001b[0m\u001b[0;34m)\u001b[0m\u001b[0;34m\u001b[0m\u001b[0;34m\u001b[0m\u001b[0m\n\u001b[0m\u001b[1;32m    303\u001b[0m                 \u001b[0mgotit\u001b[0m \u001b[0;34m=\u001b[0m \u001b[0;32mTrue\u001b[0m\u001b[0;34m\u001b[0m\u001b[0;34m\u001b[0m\u001b[0m\n\u001b[1;32m    304\u001b[0m             \u001b[0;32melse\u001b[0m\u001b[0;34m:\u001b[0m\u001b[0;34m\u001b[0m\u001b[0;34m\u001b[0m\u001b[0m\n",
      "\u001b[0;31mKeyboardInterrupt\u001b[0m: "
     ]
    }
   ],
   "source": [
    "from sklearn.ensemble import GradientBoostingClassifier\n",
    "\n",
    "classifier = GradientBoostingClassifier()            # base_estimator=DecisionTreeRegressor(max_depth=3)\n",
    "parameters = {'loss':['deviance'], 'learning_rate':[0.1,0.3],'n_estimators': [100], 'subsample':[1.0], 'criterion':['friedman_mse'], 'min_samples_split':[100, 50], 'min_samples_leaf':[10000], 'max_depth':[6,5,4,3], 'max_features':['auto']}\n",
    "\n",
    "hyperp_search(classifier,parameters)"
   ]
  },
  {
   "cell_type": "code",
   "execution_count": 75,
   "metadata": {},
   "outputs": [
    {
     "data": {
      "text/plain": [
       "dict_keys(['alpha', 'ccp_alpha', 'criterion', 'init', 'learning_rate', 'loss', 'max_depth', 'max_features', 'max_leaf_nodes', 'min_impurity_decrease', 'min_impurity_split', 'min_samples_leaf', 'min_samples_split', 'min_weight_fraction_leaf', 'n_estimators', 'n_iter_no_change', 'presort', 'random_state', 'subsample', 'tol', 'validation_fraction', 'verbose', 'warm_start'])"
      ]
     },
     "execution_count": 75,
     "metadata": {},
     "output_type": "execute_result"
    }
   ],
   "source": [
    "regressor.get_params().keys()"
   ]
  },
  {
   "cell_type": "markdown",
   "metadata": {
    "id": "wf0Uc6lhyafU"
   },
   "source": [
    "# Logistic Regression"
   ]
  },
  {
   "cell_type": "code",
   "execution_count": 55,
   "metadata": {
    "id": "G1Jn63yvyafU"
   },
   "outputs": [
    {
     "name": "stdout",
     "output_type": "stream",
     "text": [
      "f1_train: 0.313322 using {'C': 10, 'max_iter': 1000}\n",
      "f1_test:  0.31203940886699505\n",
      "[[122128   1545]\n",
      " [ 15912   3959]]\n",
      "              precision    recall  f1-score   support\n",
      "\n",
      "           0       0.88      0.99      0.93    123673\n",
      "           1       0.72      0.20      0.31     19871\n",
      "\n",
      "    accuracy                           0.88    143544\n",
      "   macro avg       0.80      0.59      0.62    143544\n",
      "weighted avg       0.86      0.88      0.85    143544\n",
      "\n",
      "(0.861827799401135, 0.8783857214512624, 0.8472955674547159, None)\n"
     ]
    }
   ],
   "source": [
    "from sklearn.linear_model import LogisticRegression\n",
    "\n",
    "classifier = LogisticRegression()\n",
    "parameters = {\"C\":[1e-4,1e-3,1e-2,1e-1,1,10], \"max_iter\":[1000] }\n",
    "\n",
    "\n",
    "hyperp_search(classifier,parameters)"
   ]
  },
  {
   "cell_type": "markdown",
   "metadata": {
    "id": "s6UADuGtyafU"
   },
   "source": [
    "# Making the Prediction"
   ]
  },
  {
   "cell_type": "markdown",
   "metadata": {
    "id": "tfyWKV8CyafV"
   },
   "source": [
    "Having the model parameters and best fit model to our Train.csv Data, we will be able to predict over the Test.csv.\n",
    "To be noticed, same scaled fitted model (standard Scalar) which has already implemented over the Train Data should be dedicated\n",
    "toward the Test Test."
   ]
  },
  {
   "cell_type": "code",
   "execution_count": 83,
   "metadata": {
    "id": "Kd4rQvV2yafG"
   },
   "outputs": [],
   "source": [
    "import pandas as pd\n",
    "import numpy as np\n",
    "from sklearn.preprocessing import StandardScaler\n",
    "from sklearn.preprocessing import MinMaxScaler\n",
    "import datetime"
   ]
  },
  {
   "cell_type": "code",
   "execution_count": 84,
   "metadata": {
    "id": "d6kvrzDGyhz9"
   },
   "outputs": [],
   "source": [
    "from numpy import genfromtxt\n",
    "PCA_arr = genfromtxt('PCA_test.csv', delimiter=',')"
   ]
  },
  {
   "cell_type": "code",
   "execution_count": 85,
   "metadata": {},
   "outputs": [],
   "source": [
    "test_origin = pd.read_csv('test.csv')"
   ]
  },
  {
   "cell_type": "markdown",
   "metadata": {
    "id": "tfyWKV8CyafV"
   },
   "source": [
    "Having the model parameters and best fit model to our Train.csv Data, we will be able to predict over the Test.csv.\n",
    "To be noticed, same scaled fitted model (standard Scalar) which has already implemented over the Train Data should be dedicated\n",
    "toward the Test Test."
   ]
  },
  {
   "cell_type": "code",
   "execution_count": 86,
   "metadata": {
    "id": "wva2_9nw5Z40"
   },
   "outputs": [],
   "source": [
    "X_pca_test=pd.DataFrame(PCA_arr)\n",
    "test_origin = test_origin[['SITE_ID','DATE','N_TRANSPORTED_SITES']]\n",
    "# we should do all the preprocessing that we did for train.csv on the test.csv as well, The result is in the X_2 data frame"
   ]
  },
  {
   "cell_type": "code",
   "execution_count": 87,
   "metadata": {},
   "outputs": [
    {
     "data": {
      "text/html": [
       "<div>\n",
       "<style scoped>\n",
       "    .dataframe tbody tr th:only-of-type {\n",
       "        vertical-align: middle;\n",
       "    }\n",
       "\n",
       "    .dataframe tbody tr th {\n",
       "        vertical-align: top;\n",
       "    }\n",
       "\n",
       "    .dataframe thead th {\n",
       "        text-align: right;\n",
       "    }\n",
       "</style>\n",
       "<table border=\"1\" class=\"dataframe\">\n",
       "  <thead>\n",
       "    <tr style=\"text-align: right;\">\n",
       "      <th></th>\n",
       "      <th>0</th>\n",
       "      <th>1</th>\n",
       "      <th>2</th>\n",
       "      <th>3</th>\n",
       "      <th>4</th>\n",
       "      <th>5</th>\n",
       "      <th>6</th>\n",
       "      <th>7</th>\n",
       "      <th>8</th>\n",
       "      <th>9</th>\n",
       "      <th>...</th>\n",
       "      <th>22</th>\n",
       "      <th>23</th>\n",
       "      <th>24</th>\n",
       "      <th>25</th>\n",
       "      <th>26</th>\n",
       "      <th>27</th>\n",
       "      <th>28</th>\n",
       "      <th>29</th>\n",
       "      <th>30</th>\n",
       "      <th>31</th>\n",
       "    </tr>\n",
       "  </thead>\n",
       "  <tbody>\n",
       "    <tr>\n",
       "      <th>0</th>\n",
       "      <td>-0.638963</td>\n",
       "      <td>-0.723192</td>\n",
       "      <td>1.073850</td>\n",
       "      <td>-0.020673</td>\n",
       "      <td>0.173960</td>\n",
       "      <td>-0.986872</td>\n",
       "      <td>-0.044315</td>\n",
       "      <td>-0.073762</td>\n",
       "      <td>0.318885</td>\n",
       "      <td>0.127459</td>\n",
       "      <td>...</td>\n",
       "      <td>0.228251</td>\n",
       "      <td>0.009626</td>\n",
       "      <td>0.024679</td>\n",
       "      <td>0.137854</td>\n",
       "      <td>0.068709</td>\n",
       "      <td>-0.048554</td>\n",
       "      <td>0.006412</td>\n",
       "      <td>0.025030</td>\n",
       "      <td>-0.178321</td>\n",
       "      <td>0.071160</td>\n",
       "    </tr>\n",
       "    <tr>\n",
       "      <th>1</th>\n",
       "      <td>-0.643231</td>\n",
       "      <td>-0.908548</td>\n",
       "      <td>1.280059</td>\n",
       "      <td>-0.098624</td>\n",
       "      <td>0.204755</td>\n",
       "      <td>-0.929311</td>\n",
       "      <td>-0.024817</td>\n",
       "      <td>-0.090516</td>\n",
       "      <td>0.362124</td>\n",
       "      <td>0.168404</td>\n",
       "      <td>...</td>\n",
       "      <td>0.249787</td>\n",
       "      <td>-0.011441</td>\n",
       "      <td>0.019608</td>\n",
       "      <td>0.166461</td>\n",
       "      <td>0.087784</td>\n",
       "      <td>-0.069482</td>\n",
       "      <td>-0.005775</td>\n",
       "      <td>0.014163</td>\n",
       "      <td>0.119573</td>\n",
       "      <td>0.014776</td>\n",
       "    </tr>\n",
       "    <tr>\n",
       "      <th>2</th>\n",
       "      <td>-0.630286</td>\n",
       "      <td>-1.024725</td>\n",
       "      <td>1.449132</td>\n",
       "      <td>-0.108238</td>\n",
       "      <td>0.159373</td>\n",
       "      <td>-0.975164</td>\n",
       "      <td>-0.014220</td>\n",
       "      <td>-0.097865</td>\n",
       "      <td>0.362856</td>\n",
       "      <td>0.169781</td>\n",
       "      <td>...</td>\n",
       "      <td>0.255645</td>\n",
       "      <td>-0.002174</td>\n",
       "      <td>0.017529</td>\n",
       "      <td>0.154766</td>\n",
       "      <td>0.077265</td>\n",
       "      <td>-0.049503</td>\n",
       "      <td>-0.007906</td>\n",
       "      <td>0.015206</td>\n",
       "      <td>0.299571</td>\n",
       "      <td>-0.017298</td>\n",
       "    </tr>\n",
       "    <tr>\n",
       "      <th>3</th>\n",
       "      <td>-0.615162</td>\n",
       "      <td>-0.894503</td>\n",
       "      <td>1.380044</td>\n",
       "      <td>-0.074874</td>\n",
       "      <td>0.003987</td>\n",
       "      <td>-1.386995</td>\n",
       "      <td>-0.097885</td>\n",
       "      <td>-0.032074</td>\n",
       "      <td>0.442236</td>\n",
       "      <td>0.228798</td>\n",
       "      <td>...</td>\n",
       "      <td>0.290155</td>\n",
       "      <td>-0.037637</td>\n",
       "      <td>0.012435</td>\n",
       "      <td>0.195928</td>\n",
       "      <td>0.110355</td>\n",
       "      <td>-0.091269</td>\n",
       "      <td>-0.026307</td>\n",
       "      <td>0.020561</td>\n",
       "      <td>0.489645</td>\n",
       "      <td>-0.063044</td>\n",
       "    </tr>\n",
       "    <tr>\n",
       "      <th>4</th>\n",
       "      <td>-0.622776</td>\n",
       "      <td>-1.300381</td>\n",
       "      <td>1.845811</td>\n",
       "      <td>-0.191194</td>\n",
       "      <td>0.013886</td>\n",
       "      <td>-1.246558</td>\n",
       "      <td>-0.029926</td>\n",
       "      <td>-0.086013</td>\n",
       "      <td>0.468155</td>\n",
       "      <td>0.261157</td>\n",
       "      <td>...</td>\n",
       "      <td>0.319756</td>\n",
       "      <td>-0.042134</td>\n",
       "      <td>-0.003155</td>\n",
       "      <td>0.240175</td>\n",
       "      <td>0.125228</td>\n",
       "      <td>-0.111572</td>\n",
       "      <td>-0.042119</td>\n",
       "      <td>0.016869</td>\n",
       "      <td>0.930811</td>\n",
       "      <td>-0.140841</td>\n",
       "    </tr>\n",
       "  </tbody>\n",
       "</table>\n",
       "<p>5 rows × 32 columns</p>\n",
       "</div>"
      ],
      "text/plain": [
       "         0         1         2         3         4         5         6   \\\n",
       "0 -0.638963 -0.723192  1.073850 -0.020673  0.173960 -0.986872 -0.044315   \n",
       "1 -0.643231 -0.908548  1.280059 -0.098624  0.204755 -0.929311 -0.024817   \n",
       "2 -0.630286 -1.024725  1.449132 -0.108238  0.159373 -0.975164 -0.014220   \n",
       "3 -0.615162 -0.894503  1.380044 -0.074874  0.003987 -1.386995 -0.097885   \n",
       "4 -0.622776 -1.300381  1.845811 -0.191194  0.013886 -1.246558 -0.029926   \n",
       "\n",
       "         7         8         9   ...        22        23        24        25  \\\n",
       "0 -0.073762  0.318885  0.127459  ...  0.228251  0.009626  0.024679  0.137854   \n",
       "1 -0.090516  0.362124  0.168404  ...  0.249787 -0.011441  0.019608  0.166461   \n",
       "2 -0.097865  0.362856  0.169781  ...  0.255645 -0.002174  0.017529  0.154766   \n",
       "3 -0.032074  0.442236  0.228798  ...  0.290155 -0.037637  0.012435  0.195928   \n",
       "4 -0.086013  0.468155  0.261157  ...  0.319756 -0.042134 -0.003155  0.240175   \n",
       "\n",
       "         26        27        28        29        30        31  \n",
       "0  0.068709 -0.048554  0.006412  0.025030 -0.178321  0.071160  \n",
       "1  0.087784 -0.069482 -0.005775  0.014163  0.119573  0.014776  \n",
       "2  0.077265 -0.049503 -0.007906  0.015206  0.299571 -0.017298  \n",
       "3  0.110355 -0.091269 -0.026307  0.020561  0.489645 -0.063044  \n",
       "4  0.125228 -0.111572 -0.042119  0.016869  0.930811 -0.140841  \n",
       "\n",
       "[5 rows x 32 columns]"
      ]
     },
     "execution_count": 87,
     "metadata": {},
     "output_type": "execute_result"
    }
   ],
   "source": [
    "X.head()"
   ]
  },
  {
   "cell_type": "code",
   "execution_count": 88,
   "metadata": {},
   "outputs": [
    {
     "data": {
      "text/html": [
       "<div>\n",
       "<style scoped>\n",
       "    .dataframe tbody tr th:only-of-type {\n",
       "        vertical-align: middle;\n",
       "    }\n",
       "\n",
       "    .dataframe tbody tr th {\n",
       "        vertical-align: top;\n",
       "    }\n",
       "\n",
       "    .dataframe thead th {\n",
       "        text-align: right;\n",
       "    }\n",
       "</style>\n",
       "<table border=\"1\" class=\"dataframe\">\n",
       "  <thead>\n",
       "    <tr style=\"text-align: right;\">\n",
       "      <th></th>\n",
       "      <th>SITE_ID</th>\n",
       "      <th>DATE</th>\n",
       "      <th>N_TRANSPORTED_SITES</th>\n",
       "    </tr>\n",
       "  </thead>\n",
       "  <tbody>\n",
       "    <tr>\n",
       "      <th>0</th>\n",
       "      <td>858</td>\n",
       "      <td>2019-04-10</td>\n",
       "      <td>10.0</td>\n",
       "    </tr>\n",
       "    <tr>\n",
       "      <th>1</th>\n",
       "      <td>858</td>\n",
       "      <td>2019-04-11</td>\n",
       "      <td>10.0</td>\n",
       "    </tr>\n",
       "    <tr>\n",
       "      <th>2</th>\n",
       "      <td>858</td>\n",
       "      <td>2019-04-12</td>\n",
       "      <td>10.0</td>\n",
       "    </tr>\n",
       "    <tr>\n",
       "      <th>3</th>\n",
       "      <td>858</td>\n",
       "      <td>2019-04-13</td>\n",
       "      <td>10.0</td>\n",
       "    </tr>\n",
       "    <tr>\n",
       "      <th>4</th>\n",
       "      <td>858</td>\n",
       "      <td>2019-04-14</td>\n",
       "      <td>10.0</td>\n",
       "    </tr>\n",
       "  </tbody>\n",
       "</table>\n",
       "</div>"
      ],
      "text/plain": [
       "   SITE_ID        DATE  N_TRANSPORTED_SITES\n",
       "0      858  2019-04-10                 10.0\n",
       "1      858  2019-04-11                 10.0\n",
       "2      858  2019-04-12                 10.0\n",
       "3      858  2019-04-13                 10.0\n",
       "4      858  2019-04-14                 10.0"
      ]
     },
     "execution_count": 88,
     "metadata": {},
     "output_type": "execute_result"
    }
   ],
   "source": [
    "test_origin.head()"
   ]
  },
  {
   "cell_type": "code",
   "execution_count": 89,
   "metadata": {
    "colab": {
     "base_uri": "https://localhost:8080/",
     "height": 606
    },
    "id": "PNvZ7l82RkBW",
    "outputId": "cc1675b0-1d43-4e85-b6d0-5c2402468b00"
   },
   "outputs": [],
   "source": [
    "test_df_concat=pd.concat([test_origin, X_pca_test], axis = 1)"
   ]
  },
  {
   "cell_type": "code",
   "execution_count": 90,
   "metadata": {
    "colab": {
     "base_uri": "https://localhost:8080/"
    },
    "id": "IWclMe_rQdq2",
    "outputId": "76291bcf-1fe0-418a-bb8c-3d15707e3408"
   },
   "outputs": [
    {
     "data": {
      "text/plain": [
       "0"
      ]
     },
     "execution_count": 90,
     "metadata": {},
     "output_type": "execute_result"
    }
   ],
   "source": [
    "test_df_concat.isnull().sum().sum()"
   ]
  },
  {
   "cell_type": "code",
   "execution_count": 122,
   "metadata": {
    "colab": {
     "base_uri": "https://localhost:8080/",
     "height": 385
    },
    "id": "lHGCf41fyafV",
    "outputId": "989129de-0c61-4cba-c2df-8252b044ecb1"
   },
   "outputs": [],
   "source": [
    "####  Preprocessing of the test.csv in a exact process we did for the Train.csv \n",
    "\n",
    "Best_model = DecisionTreeClassifier(criterion= 'gini', max_depth= 10, min_samples_leaf= 10, min_samples_split= 20)\n",
    "Best_model.fit(X, y)\n",
    "\n",
    "y_2_pred = Best_model.predict(X_pca_test)\n",
    "\n"
   ]
  },
  {
   "cell_type": "markdown",
   "metadata": {
    "id": "oRfd2wC1Myok"
   },
   "source": [
    "### Evaluation Metrics"
   ]
  },
  {
   "cell_type": "code",
   "execution_count": 123,
   "metadata": {
    "id": "Sn5agvkEMyJo"
   },
   "outputs": [],
   "source": [
    "\n",
    "test_df_with_target = test_df_concat\n",
    "test_df_with_target['aircon_sum_target_next14d']= y_2_pred\n",
    "\n",
    "#read submission\n",
    "\n",
    "# submission_dataset = pd.read_csv(os.path.join(dataset_dir,'submission.csv'))\n",
    "submission_dataset = pd.read_csv('submission.csv')\n",
    "\n",
    "#keep relevant cols from test set\n",
    "\n",
    "eval_df = test_df_with_target[['SITE_ID' , 'DATE' , 'N_TRANSPORTED_SITES' , 'aircon_sum_target_next14d' ]].copy()\n",
    "\n",
    "#merge test and submission to have N_TRANSPORTED_SITES and target\n",
    "\n",
    "submission_dataset = submission_dataset.merge(eval_df, on=['SITE_ID' , 'DATE' ])\n"
   ]
  },
  {
   "cell_type": "code",
   "execution_count": 124,
   "metadata": {},
   "outputs": [
    {
     "data": {
      "text/plain": [
       "0    159472\n",
       "1       728\n",
       "Name: aircon_sum_target_next14d, dtype: int64"
      ]
     },
     "execution_count": 124,
     "metadata": {},
     "output_type": "execute_result"
    }
   ],
   "source": [
    "submission_dataset['aircon_sum_target_next14d'].value_counts()\n"
   ]
  },
  {
   "cell_type": "code",
   "execution_count": 125,
   "metadata": {
    "id": "Qvvn7VCa5alK"
   },
   "outputs": [
    {
     "name": "stderr",
     "output_type": "stream",
     "text": [
      "/home/tara/anaconda3/envs/thesis/lib/python3.8/site-packages/sklearn/metrics/_classification.py:1221: UndefinedMetricWarning: Recall is ill-defined and being set to 0.0 due to no true samples. Use `zero_division` parameter to control this behavior.\n",
      "  _warn_prf(average, modifier, msg_start, len(result))\n"
     ]
    },
    {
     "name": "stdout",
     "output_type": "stream",
     "text": [
      "0.016777777777777777\n"
     ]
    }
   ],
   "source": [
    "\n",
    "recalls = []\n",
    "\n",
    "#compute daily performance\n",
    "\n",
    "for date, daily_df in submission_dataset.groupby(['DATE']):\n",
    "\n",
    "    daily_df=daily_df.copy() \n",
    "    \n",
    "    daily_df['final_prediction' ] = 0\n",
    "\n",
    "    daily_df['NORM_N_TRANSPORTED_SITES' ] = daily_df['N_TRANSPORTED_SITES' ]/daily_df['N_TRANSPORTED_SITES' ].max()\n",
    "\n",
    "    daily_df['weighted_prediction' ] = 0.8* daily_df['prediction' ] + 0.2*daily_df['NORM_N_TRANSPORTED_SITES' ]\n",
    "\n",
    "    daily_df = daily_df.sort_values(by=['weighted_prediction' ], ascending=False)\n",
    "\n",
    "    daily_df = daily_df.reset_index(drop=True)\n",
    "\n",
    "    daily_df.loc[0:10, 'final_prediction' ] = 1\n",
    "\n",
    "    daily_recall = recall_score(y_true=daily_df['aircon_sum_target_next14d' ], y_pred=daily_df['final_prediction' ])\n",
    "\n",
    "\n",
    "    recalls.append(daily_recall)\n",
    "\n",
    "final_metric= np.mean(recalls)\n",
    "\n",
    "print (final_metric)"
   ]
  },
  {
   "cell_type": "code",
   "execution_count": 115,
   "metadata": {},
   "outputs": [
    {
     "data": {
      "text/plain": [
       "0    534\n",
       "Name: aircon_sum_target_next14d, dtype: int64"
      ]
     },
     "execution_count": 115,
     "metadata": {},
     "output_type": "execute_result"
    }
   ],
   "source": [
    "daily_df['aircon_sum_target_next14d' ].value_counts()"
   ]
  },
  {
   "cell_type": "code",
   "execution_count": null,
   "metadata": {},
   "outputs": [],
   "source": []
  }
 ],
 "metadata": {
  "accelerator": "GPU",
  "colab": {
   "name": "Model .ipynb",
   "provenance": []
  },
  "kernelspec": {
   "display_name": "Python 3",
   "language": "python",
   "name": "python3"
  },
  "language_info": {
   "codemirror_mode": {
    "name": "ipython",
    "version": 3
   },
   "file_extension": ".py",
   "mimetype": "text/x-python",
   "name": "python",
   "nbconvert_exporter": "python",
   "pygments_lexer": "ipython3",
   "version": "3.8.5"
  }
 },
 "nbformat": 4,
 "nbformat_minor": 4
}
